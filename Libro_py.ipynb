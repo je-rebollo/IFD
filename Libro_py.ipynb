{
  "nbformat": 4,
  "nbformat_minor": 0,
  "metadata": {
    "colab": {
      "provenance": [],
      "name": "Libro.py",
      "authorship_tag": "ABX9TyMf3yGJ6kGCHPEBhgF1bxJ0",
      "include_colab_link": true
    },
    "kernelspec": {
      "name": "python3",
      "display_name": "Python 3"
    },
    "language_info": {
      "name": "python"
    }
  },
  "cells": [
    {
      "cell_type": "markdown",
      "metadata": {
        "id": "view-in-github",
        "colab_type": "text"
      },
      "source": [
        "<a href=\"https://colab.research.google.com/github/je-rebollo/IFD/blob/main/Libro_py.ipynb\" target=\"_parent\"><img src=\"https://colab.research.google.com/assets/colab-badge.svg\" alt=\"Open In Colab\"/></a>"
      ]
    },
    {
      "cell_type": "code",
      "execution_count": null,
      "metadata": {
        "id": "A4_5Khe44KIV"
      },
      "outputs": [],
      "source": [
        "class miLibro :\n",
        "    def __init__(self, titulo, autor, año):\n",
        "        self.titulo = titulo\n",
        "        self.autor = autor\n",
        "        self.año = año\n",
        "    def mostrar_informacion(self):\n",
        "        print(f\"Título: {self.titulo}\")\n",
        "        print(f\"Autor: {self.autor}\")\n",
        "        print(f\"Año: {self.año}\")\n",
        "    def cambiar_año(self, nuevo_año):\n",
        "        self.año = nuevo_año\n",
        ""
      ]
    },
    {
      "cell_type": "code",
      "source": [],
      "metadata": {
        "id": "hbARdwMWDP17"
      },
      "execution_count": null,
      "outputs": []
    }
  ]
}