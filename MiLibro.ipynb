{
  "nbformat": 4,
  "nbformat_minor": 0,
  "metadata": {
    "colab": {
      "provenance": [],
      "authorship_tag": "ABX9TyNA6ca5EMjwI3zk7uuEhG2O",
      "include_colab_link": true
    },
    "kernelspec": {
      "name": "python3",
      "display_name": "Python 3"
    },
    "language_info": {
      "name": "python"
    }
  },
  "cells": [
    {
      "cell_type": "markdown",
      "metadata": {
        "id": "view-in-github",
        "colab_type": "text"
      },
      "source": [
        "<a href=\"https://colab.research.google.com/github/je-rebollo/IFD/blob/Bib01/MiLibro.ipynb\" target=\"_parent\"><img src=\"https://colab.research.google.com/assets/colab-badge.svg\" alt=\"Open In Colab\"/></a>"
      ]
    },
    {
      "cell_type": "code",
      "execution_count": 2,
      "metadata": {
        "colab": {
          "base_uri": "https://localhost:8080/"
        },
        "id": "-TjgeyHfLnQX",
        "outputId": "ee6cfaf0-9f3d-4102-fa50-716da2ebce79"
      },
      "outputs": [
        {
          "output_type": "stream",
          "name": "stdout",
          "text": [
            "El principito Antoine de Saint-Exupéry 1943\n"
          ]
        }
      ],
      "source": [
        "class miLibro :\n",
        "    def __init__(self, titulo, autor, año):\n",
        "        self.titulo = titulo\n",
        "        self.autor = autor\n",
        "        self.año = año\n",
        "    def mostrar(self):\n",
        "      print(self.titulo, self.autor, self.año)\n",
        "libro1 = miLibro(\"El principito\", \"Antoine de Saint-Exupéry\", 1943)\n",
        "libro1.mostrar()"
      ]
    }
  ]
}